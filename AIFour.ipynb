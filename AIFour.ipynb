{
 "cells": [
  {
   "cell_type": "code",
   "execution_count": 6,
   "metadata": {},
   "outputs": [],
   "source": [
    "import numpy as np\n",
    "import pandas as pd\n",
    "\n",
    "feats = pd.read_csv('Applied-Deep-Learning-with-Keras/Lesson01/data/bank_data_feats_e3.csv',index_col = 0)\n",
    "target = pd.read_csv('Applied-Deep-Learning-with-Keras/Lesson01/data/bank_data_target_e2.csv',index_col = 0)"
   ]
  },
  {
   "cell_type": "code",
   "execution_count": 7,
   "metadata": {},
   "outputs": [],
   "source": [
    "from sklearn.model_selection import train_test_split\n",
    "test_size = 0.2\n",
    "random_state = 42\n",
    "X_train, X_test, y_train, y_test = train_test_split(feats, target, test_size=test_size, random_state=random_state)"
   ]
  },
  {
   "cell_type": "code",
   "execution_count": 8,
   "metadata": {},
   "outputs": [
    {
     "name": "stdout",
     "output_type": "stream",
     "text": [
      "(3616, 32)\n",
      "(905, 32)\n",
      "(3616, 1)\n",
      "(905, 1)\n"
     ]
    }
   ],
   "source": [
    "print(X_train.shape)\n",
    "print(X_test.shape)\n",
    "print(y_train.shape)\n",
    "print(y_test.shape)"
   ]
  },
  {
   "cell_type": "code",
   "execution_count": 9,
   "metadata": {
    "scrolled": true
   },
   "outputs": [
    {
     "name": "stdout",
     "output_type": "stream",
     "text": [
      "Requirement already satisfied: tensorflow in /home/bitai/sw/bitai/lib/python3.7/site-packages (1.14.0)\n",
      "Requirement already satisfied: tensorboard<1.15.0,>=1.14.0 in /home/bitai/sw/bitai/lib/python3.7/site-packages (from tensorflow) (1.14.0)\n",
      "Requirement already satisfied: grpcio>=1.8.6 in /home/bitai/sw/bitai/lib/python3.7/site-packages (from tensorflow) (1.30.0)\n",
      "Requirement already satisfied: termcolor>=1.1.0 in /home/bitai/sw/bitai/lib/python3.7/site-packages (from tensorflow) (1.1.0)\n",
      "Requirement already satisfied: protobuf>=3.6.1 in /home/bitai/sw/bitai/lib/python3.7/site-packages (from tensorflow) (3.12.2)\n",
      "Requirement already satisfied: six>=1.10.0 in /home/bitai/sw/bitai/lib/python3.7/site-packages (from tensorflow) (1.14.0)\n",
      "Requirement already satisfied: astor>=0.6.0 in /home/bitai/sw/bitai/lib/python3.7/site-packages (from tensorflow) (0.8.1)\n",
      "Requirement already satisfied: keras-preprocessing>=1.0.5 in /home/bitai/sw/bitai/lib/python3.7/site-packages (from tensorflow) (1.1.2)\n",
      "Requirement already satisfied: tensorflow-estimator<1.15.0rc0,>=1.14.0rc0 in /home/bitai/sw/bitai/lib/python3.7/site-packages (from tensorflow) (1.14.0)\n",
      "Requirement already satisfied: numpy<2.0,>=1.14.5 in /home/bitai/sw/bitai/lib/python3.7/site-packages (from tensorflow) (1.18.1)\n",
      "Requirement already satisfied: keras-applications>=1.0.6 in /home/bitai/sw/bitai/lib/python3.7/site-packages (from tensorflow) (1.0.8)\n",
      "Requirement already satisfied: absl-py>=0.7.0 in /home/bitai/sw/bitai/lib/python3.7/site-packages (from tensorflow) (0.9.0)\n",
      "Requirement already satisfied: wheel>=0.26 in /home/bitai/sw/bitai/lib/python3.7/site-packages (from tensorflow) (0.34.2)\n",
      "Requirement already satisfied: wrapt>=1.11.1 in /home/bitai/sw/bitai/lib/python3.7/site-packages (from tensorflow) (1.11.2)\n",
      "Requirement already satisfied: google-pasta>=0.1.6 in /home/bitai/sw/bitai/lib/python3.7/site-packages (from tensorflow) (0.2.0)\n",
      "Requirement already satisfied: gast>=0.2.0 in /home/bitai/sw/bitai/lib/python3.7/site-packages (from tensorflow) (0.3.3)\n",
      "Requirement already satisfied: markdown>=2.6.8 in /home/bitai/sw/bitai/lib/python3.7/site-packages (from tensorboard<1.15.0,>=1.14.0->tensorflow) (3.2.2)\n",
      "Requirement already satisfied: werkzeug>=0.11.15 in /home/bitai/sw/bitai/lib/python3.7/site-packages (from tensorboard<1.15.0,>=1.14.0->tensorflow) (1.0.0)\n",
      "Requirement already satisfied: setuptools>=41.0.0 in /home/bitai/sw/bitai/lib/python3.7/site-packages (from tensorboard<1.15.0,>=1.14.0->tensorflow) (45.2.0.post20200210)\n",
      "Requirement already satisfied: h5py in /home/bitai/sw/bitai/lib/python3.7/site-packages (from keras-applications>=1.0.6->tensorflow) (2.10.0)\n",
      "Requirement already satisfied: importlib-metadata; python_version < \"3.8\" in /home/bitai/sw/bitai/lib/python3.7/site-packages (from markdown>=2.6.8->tensorboard<1.15.0,>=1.14.0->tensorflow) (1.5.0)\n",
      "Requirement already satisfied: zipp>=0.5 in /home/bitai/sw/bitai/lib/python3.7/site-packages (from importlib-metadata; python_version < \"3.8\"->markdown>=2.6.8->tensorboard<1.15.0,>=1.14.0->tensorflow) (2.2.0)\n"
     ]
    }
   ],
   "source": [
    "!pip install tensorflow"
   ]
  },
  {
   "cell_type": "code",
   "execution_count": 10,
   "metadata": {
    "scrolled": true
   },
   "outputs": [],
   "source": [
    "from keras.models import Sequential\n",
    "model = Sequential()"
   ]
  },
  {
   "cell_type": "code",
   "execution_count": 14,
   "metadata": {},
   "outputs": [],
   "source": [
    "from keras.layers import Dense, Activation\n",
    "from keras.models import Sequential\n",
    "\n",
    "input_shape = X_train.shape[1]\n",
    "units = 1\n",
    "\n",
    "model.add(Dense(units, input_dim = input_shape))\n",
    "model.add(Activation('tanh'))\n",
    "model.compile(optimizer='adam',loss='binary_crossentropy',metrics=['accuracy'])"
   ]
  },
  {
   "cell_type": "code",
   "execution_count": 17,
   "metadata": {},
   "outputs": [],
   "source": [
    "model.compile(optimizer='adam',loss='binary_crossentropy',metrics=['accuracy'])"
   ]
  },
  {
   "cell_type": "code",
   "execution_count": 20,
   "metadata": {},
   "outputs": [
    {
     "name": "stdout",
     "output_type": "stream",
     "text": [
      "Model: \"sequential_2\"\n",
      "_________________________________________________________________\n",
      "Layer (type)                 Output Shape              Param #   \n",
      "=================================================================\n",
      "dense_1 (Dense)              (None, 1)                 33        \n",
      "_________________________________________________________________\n",
      "activation_1 (Activation)    (None, 1)                 0         \n",
      "_________________________________________________________________\n",
      "dense_2 (Dense)              (None, 1)                 2         \n",
      "_________________________________________________________________\n",
      "activation_2 (Activation)    (None, 1)                 0         \n",
      "=================================================================\n",
      "Total params: 35\n",
      "Trainable params: 35\n",
      "Non-trainable params: 0\n",
      "_________________________________________________________________\n",
      "None\n"
     ]
    }
   ],
   "source": [
    "print(model.summary())"
   ]
  },
  {
   "cell_type": "code",
   "execution_count": 23,
   "metadata": {
    "scrolled": true
   },
   "outputs": [
    {
     "name": "stdout",
     "output_type": "stream",
     "text": [
      "Train on 2892 samples, validate on 724 samples\n",
      "Epoch 1/10\n",
      "2892/2892 [==============================] - 0s 21us/step - loss: 1.9284 - acc: 3.4578e-04 - val_loss: 1.7142 - val_acc: 0.0000e+00\n",
      "Epoch 2/10\n",
      "2892/2892 [==============================] - 0s 24us/step - loss: 1.9284 - acc: 3.4578e-04 - val_loss: 1.7142 - val_acc: 0.0000e+00\n",
      "Epoch 3/10\n",
      "2892/2892 [==============================] - 0s 29us/step - loss: 1.9284 - acc: 3.4578e-04 - val_loss: 1.7142 - val_acc: 0.0000e+00\n",
      "Epoch 4/10\n",
      "2892/2892 [==============================] - 0s 31us/step - loss: 1.9284 - acc: 3.4578e-04 - val_loss: 1.7142 - val_acc: 0.0000e+00\n",
      "Epoch 5/10\n",
      "2892/2892 [==============================] - 0s 32us/step - loss: 1.9284 - acc: 3.4578e-04 - val_loss: 1.7142 - val_acc: 0.0000e+00\n",
      "Epoch 6/10\n",
      "2892/2892 [==============================] - 0s 32us/step - loss: 1.9284 - acc: 3.4578e-04 - val_loss: 1.7142 - val_acc: 0.0000e+00\n",
      "Epoch 7/10\n",
      "2892/2892 [==============================] - 0s 32us/step - loss: 1.9284 - acc: 3.4578e-04 - val_loss: 1.7142 - val_acc: 0.0000e+00\n",
      "Epoch 8/10\n",
      "2892/2892 [==============================] - 0s 32us/step - loss: 1.9284 - acc: 3.4578e-04 - val_loss: 1.7142 - val_acc: 0.0000e+00\n",
      "Epoch 9/10\n",
      "2892/2892 [==============================] - 0s 36us/step - loss: 1.9284 - acc: 3.4578e-04 - val_loss: 1.7142 - val_acc: 0.0000e+00\n",
      "Epoch 10/10\n",
      "2892/2892 [==============================] - 0s 36us/step - loss: 1.9284 - acc: 3.4578e-04 - val_loss: 1.7142 - val_acc: 0.0000e+00\n"
     ]
    }
   ],
   "source": [
    "history = model.fit(x=X_train, y=y_train['y'],epochs=10, batch_size=32, validation_split=0.2)"
   ]
  },
  {
   "cell_type": "code",
   "execution_count": 27,
   "metadata": {},
   "outputs": [
    {
     "data": {
      "image/png": "[encoded data removed]",
      "text/plain": [
       "<Figure size 432x288 with 1 Axes>"
      ]
     },
     "metadata": {
      "needs_background": "light"
     },
     "output_type": "display_data"
    },
    {
     "data": {
      "image/png": "[encoded data removed]",
      "text/plain": [
       "<Figure size 432x288 with 1 Axes>"
      ]
     },
     "metadata": {
      "needs_background": "light"
     },
     "output_type": "display_data"
    }
   ],
   "source": [
    "import matplotlib.pyplot as plt\n",
    "\n",
    "plt.plot(history.history['acc'])\n",
    "plt.plot(history.history['val_acc'])\n",
    "plt.title('Model Accuracy')\n",
    "plt.ylabel('Accuracy')\n",
    "plt.xlabel('Loop')\n",
    "plt.legend(['Train', 'Validation'], loc='upper left')\n",
    "plt.show()\n",
    "\n",
    "plt.plot(history.history['loss'])\n",
    "plt.plot(history.history['val_loss'])\n",
    "plt.title('Model Loss')\n",
    "plt.ylabel('Loss')\n",
    "plt.xlabel('Loop')\n",
    "plt.legend(['Train', 'Validation'], loc='upper left')\n",
    "plt.show()"
   ]
  },
  {
   "cell_type": "code",
   "execution_count": 28,
   "metadata": {},
   "outputs": [],
   "source": [
    "import pandas as pd\n",
    "\n",
    "feats = pd.read_csv('Applied-Deep-Learning-with-Keras/Lesson02/bank_data_feats.csv',index_col = 0)\n",
    "target = pd.read_csv('Applied-Deep-Learning-with-Keras/Lesson02/bank_data_target.csv',index_col = 0)"
   ]
  },
  {
   "cell_type": "code",
   "execution_count": 29,
   "metadata": {
    "scrolled": true
   },
   "outputs": [
    {
     "name": "stdout",
     "output_type": "stream",
     "text": [
      "Train on 2892 samples, validate on 724 samples\n",
      "Epoch 1/20\n",
      "2892/2892 [==============================] - 0s 63us/step - loss: 2.3045 - acc: 0.0010 - val_loss: 2.2204 - val_acc: 0.0014\n",
      "Epoch 2/20\n",
      "2892/2892 [==============================] - 0s 19us/step - loss: 2.2594 - acc: 3.4578e-04 - val_loss: 2.1494 - val_acc: 0.0028\n",
      "Epoch 3/20\n",
      "2892/2892 [==============================] - 0s 20us/step - loss: 2.2494 - acc: 0.0000e+00 - val_loss: 2.1143 - val_acc: 0.0028\n",
      "Epoch 4/20\n",
      "2892/2892 [==============================] - 0s 22us/step - loss: 2.2402 - acc: 3.4578e-04 - val_loss: 2.0776 - val_acc: 0.0028\n",
      "Epoch 5/20\n",
      "2892/2892 [==============================] - 0s 30us/step - loss: 2.1806 - acc: 3.4578e-04 - val_loss: 2.0274 - val_acc: 0.0014\n",
      "Epoch 6/20\n",
      "2892/2892 [==============================] - 0s 41us/step - loss: 2.1571 - acc: 3.4578e-04 - val_loss: 1.9919 - val_acc: 0.0014\n",
      "Epoch 7/20\n",
      "2892/2892 [==============================] - 0s 52us/step - loss: 2.1537 - acc: 0.0000e+00 - val_loss: 1.9711 - val_acc: 0.0014\n",
      "Epoch 8/20\n",
      "2892/2892 [==============================] - 0s 52us/step - loss: 2.1434 - acc: 3.4578e-04 - val_loss: 1.9710 - val_acc: 0.0000e+00\n",
      "Epoch 9/20\n",
      "2892/2892 [==============================] - 0s 61us/step - loss: 2.0827 - acc: 6.9156e-04 - val_loss: 1.8313 - val_acc: 0.0000e+00\n",
      "Epoch 10/20\n",
      "2892/2892 [==============================] - 0s 66us/step - loss: 1.9911 - acc: 0.0000e+00 - val_loss: 1.8023 - val_acc: 0.0000e+00\n",
      "Epoch 11/20\n",
      "2892/2892 [==============================] - 0s 65us/step - loss: 1.9703 - acc: 0.0000e+00 - val_loss: 1.7803 - val_acc: 0.0000e+00\n",
      "Epoch 12/20\n",
      "2892/2892 [==============================] - 0s 21us/step - loss: 1.9563 - acc: 6.9156e-04 - val_loss: 1.7583 - val_acc: 0.0000e+00\n",
      "Epoch 13/20\n",
      "2892/2892 [==============================] - 0s 18us/step - loss: 1.9482 - acc: 0.0000e+00 - val_loss: 1.7560 - val_acc: 0.0000e+00\n",
      "Epoch 14/20\n",
      "2892/2892 [==============================] - 0s 18us/step - loss: 1.9442 - acc: 0.0000e+00 - val_loss: 1.7280 - val_acc: 0.0000e+00\n",
      "Epoch 15/20\n",
      "2892/2892 [==============================] - 0s 18us/step - loss: 1.9309 - acc: 3.4578e-04 - val_loss: 1.7142 - val_acc: 0.0000e+00\n",
      "Epoch 16/20\n",
      "2892/2892 [==============================] - 0s 21us/step - loss: 1.9284 - acc: 3.4578e-04 - val_loss: 1.7142 - val_acc: 0.0000e+00\n",
      "Epoch 17/20\n",
      "2892/2892 [==============================] - 0s 25us/step - loss: 1.9284 - acc: 3.4578e-04 - val_loss: 1.7142 - val_acc: 0.0000e+00\n",
      "Epoch 18/20\n",
      "2892/2892 [==============================] - 0s 34us/step - loss: 1.9284 - acc: 3.4578e-04 - val_loss: 1.7142 - val_acc: 0.0000e+00\n",
      "Epoch 19/20\n",
      "2892/2892 [==============================] - 0s 24us/step - loss: 1.9284 - acc: 3.4578e-04 - val_loss: 1.7142 - val_acc: 0.0000e+00\n",
      "Epoch 20/20\n",
      "2892/2892 [==============================] - 0s 18us/step - loss: 1.9284 - acc: 3.4578e-04 - val_loss: 1.7142 - val_acc: 0.0000e+00\n"
     ]
    }
   ],
   "source": [
    "from sklearn.model_selection import train_test_split\n",
    "\n",
    "test_size = 0.2\n",
    "random_state = 42\n",
    "\n",
    "X_train, X_test, y_train, y_test = train_test_split(\n",
    "    feats, target, test_size=test_size, random_state=random_state\n",
    ")\n",
    "\n",
    "from keras.models import Sequential\n",
    "\n",
    "model = Sequential()\n",
    "\n",
    "from keras.layers import Dense, Activation\n",
    "\n",
    "input_shape = X_train.shape[1]\n",
    "units = 1\n",
    "\n",
    "model.add(Dense(units, input_dim = input_shape))\n",
    "model.add(Activation('tanh'))\n",
    "\n",
    "model.compile(\n",
    "    optimizer='adam',\n",
    "    loss='binary_crossentropy',\n",
    "    metrics=['accuracy']\n",
    ")\n",
    "\n",
    "history = model.fit(\n",
    "    x=X_train, y=y_train['y'],\n",
    "    epochs=20, batch_size=32, validation_split=0.2\n",
    ")"
   ]
  },
  {
   "cell_type": "code",
   "execution_count": 31,
   "metadata": {
    "scrolled": true
   },
   "outputs": [
    {
     "data": {
      "image/png": "[encoded data removed]",
      "text/plain": [
       "<Figure size 432x288 with 1 Axes>"
      ]
     },
     "metadata": {
      "needs_background": "light"
     },
     "output_type": "display_data"
    },
    {
     "data": {
      "image/png": "[encoded data removed]",
      "text/plain": [
       "<Figure size 432x288 with 1 Axes>"
      ]
     },
     "metadata": {
      "needs_background": "light"
     },
     "output_type": "display_data"
    }
   ],
   "source": [
    "import matplotlib.pyplot as plt\n",
    "\n",
    "plt.plot(history.history['acc'])\n",
    "plt.plot(history.history['val_acc'])\n",
    "plt.title('Model Accuracy')\n",
    "plt.ylabel('Accuracy')\n",
    "plt.xlabel('Loop')\n",
    "plt.legend(['Train', 'Validation'], loc='upper left')\n",
    "plt.show()\n",
    "\n",
    "plt.plot(history.history['loss'])\n",
    "plt.plot(history.history['val_loss'])\n",
    "plt.title('Model Loss')\n",
    "plt.ylabel('Loss')\n",
    "plt.xlabel('Loop')\n",
    "plt.legend(['Train', 'Validation'], loc='upper left')\n",
    "plt.show()"
   ]
  },
  {
   "cell_type": "code",
   "execution_count": null,
   "metadata": {},
   "outputs": [],
   "source": []
  }
 ],
 "metadata": {
  "kernelspec": {
   "display_name": "Python 3",
   "language": "python",
   "name": "python3"
  },
  "language_info": {
   "codemirror_mode": {
    "name": "ipython",
    "version": 3
   },
   "file_extension": ".py",
   "mimetype": "text/x-python",
   "name": "python",
   "nbconvert_exporter": "python",
   "pygments_lexer": "ipython3",
   "version": "3.7.6"
  }
 },
 "nbformat": 4,
 "nbformat_minor": 4
}
