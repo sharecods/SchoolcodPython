{
 "cells": [
  {
   "cell_type": "code",
   "execution_count": 13,
   "metadata": {},
   "outputs": [],
   "source": [
    "import cv2"
   ]
  },
  {
   "cell_type": "code",
   "execution_count": 14,
   "metadata": {},
   "outputs": [
    {
     "name": "stdout",
     "output_type": "stream",
     "text": [
      "[[5 8 6 6 0 7 4]\n",
      " [4 2 4 3 7 2 6]\n",
      " [1 9 5 5 4 8 5]\n",
      " [4 2 0 0 0 1 4]\n",
      " [7 0 3 0 1 6 3]\n",
      " [2 4 2 3 3 2 7]\n",
      " [5 9 0 5 1 7 2]]\n"
     ]
    }
   ],
   "source": [
    "import numpy as np\n",
    "img = np.random.randint(0, 10, (7, 7))\n",
    "print(img)"
   ]
  },
  {
   "cell_type": "code",
   "execution_count": 15,
   "metadata": {},
   "outputs": [
    {
     "name": "stdout",
     "output_type": "stream",
     "text": [
      "[[1. 1. 1. 1. 1. 1. 1.]\n",
      " [1. 1. 1. 1. 1. 1. 1.]\n",
      " [1. 1. 1. 1. 1. 1. 1.]\n",
      " [1. 1. 1. 1. 1. 1. 1.]\n",
      " [1. 1. 1. 1. 1. 1. 1.]\n",
      " [1. 1. 1. 1. 1. 1. 1.]\n",
      " [1. 1. 1. 1. 1. 1. 1.]]\n"
     ]
    }
   ],
   "source": [
    "img_np = np.ones([7, 7])\n",
    "print(img_np)"
   ]
  },
  {
   "cell_type": "code",
   "execution_count": 16,
   "metadata": {},
   "outputs": [
    {
     "name": "stdout",
     "output_type": "stream",
     "text": [
      "[[1. 1. 1. 1. 1. 1. 1.]\n",
      " [1. 1. 1. 1. 1. 1. 1.]\n",
      " [1. 1. 1. 1. 1. 1. 1.]\n",
      " [1. 1. 1. 1. 1. 1. 1.]\n",
      " [1. 1. 1. 1. 1. 1. 1.]\n",
      " [1. 1. 1. 1. 1. 1. 1.]\n",
      " [1. 1. 1. 1. 1. 1. 1.]]\n"
     ]
    }
   ],
   "source": [
    "kernel = np.array([-1, 0, 1])\n",
    "img_cv = cv2.resize(img_np, (7, 7))\n",
    "print(img_cv)"
   ]
  },
  {
   "cell_type": "code",
   "execution_count": 17,
   "metadata": {},
   "outputs": [
    {
     "name": "stdout",
     "output_type": "stream",
     "text": [
      "[[0. 0. 0. 0. 0. 0. 0.]\n",
      " [0. 0. 0. 0. 0. 0. 0.]\n",
      " [0. 0. 0. 0. 0. 0. 0.]\n",
      " [0. 0. 0. 0. 0. 0. 0.]\n",
      " [0. 0. 0. 0. 0. 0. 0.]\n",
      " [0. 0. 0. 0. 0. 0. 0.]\n",
      " [0. 0. 0. 0. 0. 0. 0.]]\n"
     ]
    }
   ],
   "source": [
    "kernel = cv2.resize(kernel, (1, 3))\n",
    "conv_test = cv2.filter2D(img_cv, -1, kernel)\n",
    "print(conv_test)"
   ]
  },
  {
   "cell_type": "code",
   "execution_count": 18,
   "metadata": {},
   "outputs": [
    {
     "name": "stdout",
     "output_type": "stream",
     "text": [
      "[[ 0.  0.  0.  0.  0.  0.  0.]\n",
      " [ 1.  0.  0.  0.  0.  0.  0.]\n",
      " [ 0.  0.  0.  1.  0.  0.  0.]\n",
      " [ 0.  0.  0.  0.  0.  0.  0.]\n",
      " [ 0.  0.  0. -1.  0.  0.  0.]\n",
      " [ 0.  0.  0.  0.  0.  0.  2.]\n",
      " [ 0.  0.  0.  0.  0.  0.  0.]]\n"
     ]
    }
   ],
   "source": [
    "img_cv[0][0] = 0\n",
    "img_cv[3][3] = 2\n",
    "img_cv[6][6] = 3\n",
    "conv_test = cv2.filter2D(img_cv, -1, kernel)\n",
    "print(conv_test)"
   ]
  },
  {
   "cell_type": "code",
   "execution_count": 20,
   "metadata": {},
   "outputs": [],
   "source": [
    "from tensorflow.keras.models import Sequential\n",
    "from tensorflow.keras.layers import Conv2D, MaxPool2D, Flatten, Dense"
   ]
  },
  {
   "cell_type": "code",
   "execution_count": 22,
   "metadata": {},
   "outputs": [
    {
     "name": "stdout",
     "output_type": "stream",
     "text": [
      "Model: \"sequential_1\"\n",
      "_________________________________________________________________\n",
      "Layer (type)                 Output Shape              Param #   \n",
      "=================================================================\n",
      "conv2d_1 (Conv2D)            (None, 62, 62, 32)        896       \n",
      "_________________________________________________________________\n",
      "max_pooling2d_1 (MaxPooling2 (None, 31, 31, 32)        0         \n",
      "_________________________________________________________________\n",
      "flatten_1 (Flatten)          (None, 30752)             0         \n",
      "=================================================================\n",
      "Total params: 896\n",
      "Trainable params: 896\n",
      "Non-trainable params: 0\n",
      "_________________________________________________________________\n"
     ]
    }
   ],
   "source": [
    "classifier = Sequential()\n",
    "classifier.add(\n",
    "    Conv2D(32, (3, 3), input_shape = (64, 64, 3), activation = 'relu')\n",
    ")\n",
    "classifier.add(MaxPool2D(pool_size = (2, 2)))\n",
    "classifier.add(Flatten())\n",
    "classifier.summary()"
   ]
  },
  {
   "cell_type": "code",
   "execution_count": 23,
   "metadata": {},
   "outputs": [],
   "source": [
    "classifier.add(\n",
    "    Dense(128, activation = 'relu')\n",
    ")\n",
    "classifier.add(\n",
    "    Dense(128, activation = 'relu')\n",
    ")\n",
    "classifier.add(\n",
    "    Dense(128, activation = 'relu')\n",
    ")\n",
    "classifier.add(\n",
    "    Dense(128, activation = 'relu')\n",
    ")\n",
    "classifier.add(\n",
    "    Dense(64, activation = 'relu')\n",
    ")\n",
    "classifier.add(\n",
    "    Dense(32, activation = 'relu')\n",
    ")\n",
    "classifier.add(\n",
    "    Dense(16, activation = 'relu')\n",
    ")\n",
    "classifier.add(\n",
    "    Dense(1, activation = 'sigmoid')\n",
    ")\n",
    "\n",
    "classifier.compile(optimizer = 'adam',loss = 'binary_crossentropy',metrics = ['accuracy'])"
   ]
  },
  {
   "cell_type": "code",
   "execution_count": 24,
   "metadata": {},
   "outputs": [],
   "source": [
    "from keras.preprocessing.image import ImageDataGenerator\n",
    "train_gen = ImageDataGenerator(rescale = 1. / 255,shear_range = 0.2,zoom_range = 0.2,horizontal_flip = True)\n",
    "test_gen = ImageDataGenerator(rescale = 1.0 / 255)"
   ]
  },
  {
   "cell_type": "code",
   "execution_count": 25,
   "metadata": {},
   "outputs": [
    {
     "name": "stdout",
     "output_type": "stream",
     "text": [
      "Found 20000 images belonging to 2 classes.\n",
      "Found 5000 images belonging to 2 classes.\n",
      "WARNING:tensorflow:From <ipython-input-25-294e5d773fd8>:4: Model.fit_generator (from tensorflow.python.keras.engine.training) is deprecated and will be removed in a future version.\n",
      "Instructions for updating:\n",
      "Please use Model.fit, which supports generators.\n",
      "Epoch 1/100\n",
      "100/100 [==============================] - 76s 756ms/step - loss: 0.6928 - accuracy: 0.5331 - val_loss: 0.6962 - val_accuracy: 0.4688\n",
      "Epoch 2/100\n",
      "100/100 [==============================] - 86s 858ms/step - loss: 0.6606 - accuracy: 0.5981 - val_loss: 0.6229 - val_accuracy: 0.6363\n",
      "Epoch 3/100\n",
      "100/100 [==============================] - 62s 620ms/step - loss: 0.6281 - accuracy: 0.6562 - val_loss: 0.6077 - val_accuracy: 0.6913\n",
      "Epoch 4/100\n",
      "100/100 [==============================] - 57s 568ms/step - loss: 0.6124 - accuracy: 0.6666 - val_loss: 0.5844 - val_accuracy: 0.7013\n",
      "Epoch 5/100\n",
      "100/100 [==============================] - 41s 413ms/step - loss: 0.5761 - accuracy: 0.6981 - val_loss: 0.6045 - val_accuracy: 0.6775\n",
      "Epoch 6/100\n",
      "100/100 [==============================] - 42s 425ms/step - loss: 0.5738 - accuracy: 0.7053 - val_loss: 0.6017 - val_accuracy: 0.6775\n",
      "Epoch 7/100\n",
      "100/100 [==============================] - 35s 353ms/step - loss: 0.5682 - accuracy: 0.6988 - val_loss: 0.5467 - val_accuracy: 0.7138\n",
      "Epoch 8/100\n",
      "100/100 [==============================] - 32s 319ms/step - loss: 0.5621 - accuracy: 0.7050 - val_loss: 0.5791 - val_accuracy: 0.6900\n",
      "Epoch 9/100\n",
      "100/100 [==============================] - 27s 268ms/step - loss: 0.5646 - accuracy: 0.7022 - val_loss: 0.5542 - val_accuracy: 0.7250\n",
      "Epoch 10/100\n",
      "100/100 [==============================] - 22s 223ms/step - loss: 0.5509 - accuracy: 0.7241 - val_loss: 0.6553 - val_accuracy: 0.6612\n",
      "Epoch 11/100\n",
      "100/100 [==============================] - 24s 236ms/step - loss: 0.5259 - accuracy: 0.7353 - val_loss: 0.5297 - val_accuracy: 0.7275\n",
      "Epoch 12/100\n",
      " 57/100 [================>.............] - ETA: 9s - loss: 0.5363 - accuracy: 0.7264"
     ]
    },
    {
     "name": "stderr",
     "output_type": "stream",
     "text": [
      "D:\\anaconda\\lib\\site-packages\\PIL\\TiffImagePlugin.py:763: UserWarning: Possibly corrupt EXIF data.  Expecting to read 32 bytes but only got 0. Skipping tag 270\n",
      "  warnings.warn(\n",
      "D:\\anaconda\\lib\\site-packages\\PIL\\TiffImagePlugin.py:763: UserWarning: Possibly corrupt EXIF data.  Expecting to read 5 bytes but only got 0. Skipping tag 271\n",
      "  warnings.warn(\n",
      "D:\\anaconda\\lib\\site-packages\\PIL\\TiffImagePlugin.py:763: UserWarning: Possibly corrupt EXIF data.  Expecting to read 8 bytes but only got 0. Skipping tag 272\n",
      "  warnings.warn(\n",
      "D:\\anaconda\\lib\\site-packages\\PIL\\TiffImagePlugin.py:763: UserWarning: Possibly corrupt EXIF data.  Expecting to read 8 bytes but only got 0. Skipping tag 282\n",
      "  warnings.warn(\n",
      "D:\\anaconda\\lib\\site-packages\\PIL\\TiffImagePlugin.py:763: UserWarning: Possibly corrupt EXIF data.  Expecting to read 8 bytes but only got 0. Skipping tag 283\n",
      "  warnings.warn(\n",
      "D:\\anaconda\\lib\\site-packages\\PIL\\TiffImagePlugin.py:763: UserWarning: Possibly corrupt EXIF data.  Expecting to read 20 bytes but only got 0. Skipping tag 306\n",
      "  warnings.warn(\n",
      "D:\\anaconda\\lib\\site-packages\\PIL\\TiffImagePlugin.py:763: UserWarning: Possibly corrupt EXIF data.  Expecting to read 48 bytes but only got 0. Skipping tag 532\n",
      "  warnings.warn(\n",
      "D:\\anaconda\\lib\\site-packages\\PIL\\TiffImagePlugin.py:785: UserWarning: Corrupt EXIF data.  Expecting to read 2 bytes but only got 0. \n",
      "  warnings.warn(str(msg))\n"
     ]
    },
    {
     "name": "stdout",
     "output_type": "stream",
     "text": [
      "100/100 [==============================] - 23s 225ms/step - loss: 0.5309 - accuracy: 0.7312 - val_loss: 0.5656 - val_accuracy: 0.7063\n",
      "Epoch 13/100\n",
      "100/100 [==============================] - 20s 197ms/step - loss: 0.5231 - accuracy: 0.7387 - val_loss: 0.5255 - val_accuracy: 0.7262\n",
      "Epoch 14/100\n",
      "100/100 [==============================] - 18s 181ms/step - loss: 0.5246 - accuracy: 0.7403 - val_loss: 0.5275 - val_accuracy: 0.7500\n",
      "Epoch 15/100\n",
      "100/100 [==============================] - 19s 185ms/step - loss: 0.5344 - accuracy: 0.7366 - val_loss: 0.5057 - val_accuracy: 0.7588\n",
      "Epoch 16/100\n",
      "100/100 [==============================] - 20s 199ms/step - loss: 0.5309 - accuracy: 0.7369 - val_loss: 0.5345 - val_accuracy: 0.7450\n",
      "Epoch 17/100\n",
      "100/100 [==============================] - 17s 165ms/step - loss: 0.5113 - accuracy: 0.7513 - val_loss: 0.5177 - val_accuracy: 0.7350\n",
      "Epoch 18/100\n",
      "100/100 [==============================] - 15s 154ms/step - loss: 0.4947 - accuracy: 0.7469 - val_loss: 0.5094 - val_accuracy: 0.7675\n",
      "Epoch 19/100\n",
      "100/100 [==============================] - 15s 150ms/step - loss: 0.4996 - accuracy: 0.7581 - val_loss: 0.4810 - val_accuracy: 0.7613\n",
      "Epoch 20/100\n",
      "100/100 [==============================] - 16s 158ms/step - loss: 0.5036 - accuracy: 0.7544 - val_loss: 0.4987 - val_accuracy: 0.7300\n",
      "Epoch 21/100\n",
      "100/100 [==============================] - 14s 138ms/step - loss: 0.5063 - accuracy: 0.7538 - val_loss: 0.5072 - val_accuracy: 0.7563\n",
      "Epoch 22/100\n",
      "100/100 [==============================] - 14s 139ms/step - loss: 0.4890 - accuracy: 0.7609 - val_loss: 0.5567 - val_accuracy: 0.7212\n",
      "Epoch 23/100\n",
      "100/100 [==============================] - 14s 136ms/step - loss: 0.4806 - accuracy: 0.7744 - val_loss: 0.4856 - val_accuracy: 0.7738\n",
      "Epoch 24/100\n",
      "100/100 [==============================] - 13s 131ms/step - loss: 0.4962 - accuracy: 0.7550 - val_loss: 0.4873 - val_accuracy: 0.7575\n",
      "Epoch 25/100\n",
      "100/100 [==============================] - 13s 130ms/step - loss: 0.4927 - accuracy: 0.7487 - val_loss: 0.6007 - val_accuracy: 0.6725\n",
      "Epoch 26/100\n",
      "100/100 [==============================] - 13s 128ms/step - loss: 0.4871 - accuracy: 0.7703 - val_loss: 0.5213 - val_accuracy: 0.7688\n",
      "Epoch 27/100\n",
      "100/100 [==============================] - 13s 128ms/step - loss: 0.5004 - accuracy: 0.7569 - val_loss: 0.5009 - val_accuracy: 0.7525\n",
      "Epoch 28/100\n",
      "100/100 [==============================] - 13s 127ms/step - loss: 0.4825 - accuracy: 0.7616 - val_loss: 0.4909 - val_accuracy: 0.7613\n",
      "Epoch 29/100\n",
      "100/100 [==============================] - 13s 126ms/step - loss: 0.4721 - accuracy: 0.7716 - val_loss: 0.4885 - val_accuracy: 0.7663\n",
      "Epoch 30/100\n",
      "100/100 [==============================] - 12s 123ms/step - loss: 0.4655 - accuracy: 0.7778 - val_loss: 0.5098 - val_accuracy: 0.7538- ETA: 0s - loss: 0.4669 - accuracy: 0.\n",
      "Epoch 31/100\n",
      "100/100 [==============================] - 12s 125ms/step - loss: 0.4743 - accuracy: 0.7675 - val_loss: 0.4932 - val_accuracy: 0.7600\n",
      "Epoch 32/100\n",
      "100/100 [==============================] - 12s 125ms/step - loss: 0.4585 - accuracy: 0.7909 - val_loss: 0.4480 - val_accuracy: 0.7887\n",
      "Epoch 33/100\n",
      "100/100 [==============================] - 13s 129ms/step - loss: 0.4626 - accuracy: 0.7794 - val_loss: 0.5509 - val_accuracy: 0.7287\n",
      "Epoch 34/100\n",
      "100/100 [==============================] - 13s 125ms/step - loss: 0.4758 - accuracy: 0.7719 - val_loss: 0.5372 - val_accuracy: 0.7550\n",
      "Epoch 35/100\n",
      "100/100 [==============================] - 13s 128ms/step - loss: 0.4656 - accuracy: 0.7831 - val_loss: 0.5381 - val_accuracy: 0.7437\n",
      "Epoch 36/100\n",
      "100/100 [==============================] - 12s 125ms/step - loss: 0.4603 - accuracy: 0.7753 - val_loss: 0.5225 - val_accuracy: 0.7738\n",
      "Epoch 37/100\n",
      "100/100 [==============================] - 12s 123ms/step - loss: 0.4761 - accuracy: 0.7638 - val_loss: 0.4915 - val_accuracy: 0.7588\n",
      "Epoch 38/100\n",
      "100/100 [==============================] - 12s 124ms/step - loss: 0.4366 - accuracy: 0.7972 - val_loss: 0.5411 - val_accuracy: 0.7412\n",
      "Epoch 39/100\n",
      "100/100 [==============================] - 12s 124ms/step - loss: 0.4728 - accuracy: 0.7656 - val_loss: 0.5067 - val_accuracy: 0.7400\n",
      "Epoch 40/100\n",
      "100/100 [==============================] - 13s 126ms/step - loss: 0.4525 - accuracy: 0.7922 - val_loss: 0.5416 - val_accuracy: 0.7538\n",
      "Epoch 41/100\n",
      "100/100 [==============================] - 12s 124ms/step - loss: 0.4583 - accuracy: 0.7856 - val_loss: 0.4943 - val_accuracy: 0.7513\n",
      "Epoch 42/100\n",
      "100/100 [==============================] - 12s 125ms/step - loss: 0.4525 - accuracy: 0.7941 - val_loss: 0.4896 - val_accuracy: 0.7575\n",
      "Epoch 43/100\n",
      "100/100 [==============================] - 12s 122ms/step - loss: 0.4350 - accuracy: 0.8003 - val_loss: 0.5142 - val_accuracy: 0.7563\n",
      "Epoch 44/100\n",
      "100/100 [==============================] - 12s 120ms/step - loss: 0.4414 - accuracy: 0.7987 - val_loss: 0.4762 - val_accuracy: 0.7788\n",
      "Epoch 45/100\n",
      "100/100 [==============================] - 12s 122ms/step - loss: 0.4463 - accuracy: 0.7919 - val_loss: 0.5308 - val_accuracy: 0.7513\n",
      "Epoch 46/100\n",
      "100/100 [==============================] - 12s 123ms/step - loss: 0.4350 - accuracy: 0.8037 - val_loss: 0.5117 - val_accuracy: 0.7450\n",
      "Epoch 47/100\n",
      "100/100 [==============================] - 12s 120ms/step - loss: 0.4359 - accuracy: 0.7966 - val_loss: 0.5001 - val_accuracy: 0.7663\n",
      "Epoch 48/100\n",
      "100/100 [==============================] - 12s 120ms/step - loss: 0.4488 - accuracy: 0.7934 - val_loss: 0.5374 - val_accuracy: 0.7350\n",
      "Epoch 49/100\n",
      "100/100 [==============================] - 12s 122ms/step - loss: 0.4211 - accuracy: 0.8062 - val_loss: 0.5509 - val_accuracy: 0.7362\n",
      "Epoch 50/100\n",
      "100/100 [==============================] - 12s 120ms/step - loss: 0.4546 - accuracy: 0.7834 - val_loss: 0.4891 - val_accuracy: 0.7812\n",
      "Epoch 51/100\n",
      "100/100 [==============================] - 12s 122ms/step - loss: 0.4328 - accuracy: 0.7994 - val_loss: 0.4728 - val_accuracy: 0.7688\n",
      "Epoch 52/100\n",
      "100/100 [==============================] - 12s 120ms/step - loss: 0.4146 - accuracy: 0.8059 - val_loss: 0.5092 - val_accuracy: 0.7750\n",
      "Epoch 53/100\n",
      "100/100 [==============================] - 12s 121ms/step - loss: 0.4218 - accuracy: 0.8009 - val_loss: 0.5227 - val_accuracy: 0.7475\n",
      "Epoch 54/100\n",
      "100/100 [==============================] - 12s 120ms/step - loss: 0.4217 - accuracy: 0.8069 - val_loss: 0.4701 - val_accuracy: 0.7850\n",
      "Epoch 55/100\n",
      "100/100 [==============================] - 12s 121ms/step - loss: 0.4290 - accuracy: 0.8009 - val_loss: 0.4891 - val_accuracy: 0.7663\n",
      "Epoch 56/100\n",
      "100/100 [==============================] - 13s 127ms/step - loss: 0.4139 - accuracy: 0.8087 - val_loss: 0.4636 - val_accuracy: 0.7812\n",
      "Epoch 57/100\n",
      "100/100 [==============================] - 13s 133ms/step - loss: 0.4212 - accuracy: 0.8087 - val_loss: 0.5017 - val_accuracy: 0.7750\n",
      "Epoch 58/100\n",
      "100/100 [==============================] - 13s 127ms/step - loss: 0.4046 - accuracy: 0.8084 - val_loss: 0.6214 - val_accuracy: 0.7188\n",
      "Epoch 59/100\n",
      "100/100 [==============================] - 12s 122ms/step - loss: 0.4258 - accuracy: 0.8047 - val_loss: 0.5437 - val_accuracy: 0.7600\n",
      "Epoch 60/100\n",
      "100/100 [==============================] - 12s 121ms/step - loss: 0.4150 - accuracy: 0.8069 - val_loss: 0.5380 - val_accuracy: 0.7387\n",
      "Epoch 61/100\n",
      "100/100 [==============================] - 13s 125ms/step - loss: 0.4067 - accuracy: 0.8100 - val_loss: 0.5878 - val_accuracy: 0.7450\n",
      "Epoch 62/100\n",
      "100/100 [==============================] - 13s 130ms/step - loss: 0.4020 - accuracy: 0.8122 - val_loss: 0.6550 - val_accuracy: 0.7337\n",
      "Epoch 63/100\n",
      "100/100 [==============================] - 13s 127ms/step - loss: 0.4123 - accuracy: 0.8106 - val_loss: 0.4630 - val_accuracy: 0.7738\n",
      "Epoch 64/100\n",
      "100/100 [==============================] - 13s 127ms/step - loss: 0.4154 - accuracy: 0.8069 - val_loss: 0.5754 - val_accuracy: 0.7600\n",
      "Epoch 65/100\n",
      "100/100 [==============================] - 13s 125ms/step - loss: 0.4002 - accuracy: 0.8138 - val_loss: 0.4720 - val_accuracy: 0.7800\n",
      "Epoch 66/100\n",
      "100/100 [==============================] - 12s 125ms/step - loss: 0.3985 - accuracy: 0.8191 - val_loss: 0.5084 - val_accuracy: 0.7437\n",
      "Epoch 67/100\n"
     ]
    },
    {
     "name": "stdout",
     "output_type": "stream",
     "text": [
      "100/100 [==============================] - 12s 123ms/step - loss: 0.3975 - accuracy: 0.8191 - val_loss: 0.4931 - val_accuracy: 0.7700\n",
      "Epoch 68/100\n",
      "100/100 [==============================] - 13s 126ms/step - loss: 0.3927 - accuracy: 0.8238 - val_loss: 0.4981 - val_accuracy: 0.7837\n",
      "Epoch 69/100\n",
      "100/100 [==============================] - 12s 123ms/step - loss: 0.3980 - accuracy: 0.8234 - val_loss: 0.6024 - val_accuracy: 0.7575\n",
      "Epoch 70/100\n",
      "100/100 [==============================] - 13s 126ms/step - loss: 0.3809 - accuracy: 0.8250 - val_loss: 0.5418 - val_accuracy: 0.7575\n",
      "Epoch 71/100\n",
      "100/100 [==============================] - 13s 125ms/step - loss: 0.3951 - accuracy: 0.8159 - val_loss: 0.5104 - val_accuracy: 0.7688\n",
      "Epoch 72/100\n",
      "100/100 [==============================] - 13s 129ms/step - loss: 0.3729 - accuracy: 0.8397 - val_loss: 0.6388 - val_accuracy: 0.7350\n",
      "Epoch 73/100\n",
      "100/100 [==============================] - 12s 123ms/step - loss: 0.3846 - accuracy: 0.8347 - val_loss: 0.4902 - val_accuracy: 0.7750\n",
      "Epoch 74/100\n",
      "100/100 [==============================] - 13s 127ms/step - loss: 0.3798 - accuracy: 0.8300 - val_loss: 0.5686 - val_accuracy: 0.7487\n",
      "Epoch 75/100\n",
      "100/100 [==============================] - 13s 127ms/step - loss: 0.3849 - accuracy: 0.8250 - val_loss: 0.6013 - val_accuracy: 0.7650acy: 0.82\n",
      "Epoch 76/100\n",
      "100/100 [==============================] - 13s 131ms/step - loss: 0.3854 - accuracy: 0.8263 - val_loss: 0.5506 - val_accuracy: 0.7700\n",
      "Epoch 77/100\n",
      "100/100 [==============================] - 13s 127ms/step - loss: 0.3708 - accuracy: 0.8356 - val_loss: 0.4731 - val_accuracy: 0.8000\n",
      "Epoch 78/100\n",
      "100/100 [==============================] - 12s 122ms/step - loss: 0.3718 - accuracy: 0.8359 - val_loss: 0.5036 - val_accuracy: 0.7900\n",
      "Epoch 79/100\n",
      "100/100 [==============================] - 13s 126ms/step - loss: 0.3899 - accuracy: 0.8306 - val_loss: 0.5067 - val_accuracy: 0.7613\n",
      "Epoch 80/100\n",
      "100/100 [==============================] - 12s 123ms/step - loss: 0.3864 - accuracy: 0.8281 - val_loss: 0.4844 - val_accuracy: 0.7825\n",
      "Epoch 81/100\n",
      "100/100 [==============================] - 12s 123ms/step - loss: 0.3701 - accuracy: 0.8347 - val_loss: 0.4741 - val_accuracy: 0.7825\n",
      "Epoch 82/100\n",
      "100/100 [==============================] - 13s 125ms/step - loss: 0.3595 - accuracy: 0.8413 - val_loss: 0.5469 - val_accuracy: 0.7650\n",
      "Epoch 83/100\n",
      "100/100 [==============================] - 12s 122ms/step - loss: 0.3977 - accuracy: 0.8222 - val_loss: 0.4815 - val_accuracy: 0.7613\n",
      "Epoch 84/100\n",
      "100/100 [==============================] - 12s 123ms/step - loss: 0.3840 - accuracy: 0.8250 - val_loss: 0.5516 - val_accuracy: 0.7538\n",
      "Epoch 85/100\n",
      "100/100 [==============================] - 12s 125ms/step - loss: 0.3592 - accuracy: 0.8425 - val_loss: 0.5529 - val_accuracy: 0.7750\n",
      "Epoch 86/100\n",
      "100/100 [==============================] - 12s 123ms/step - loss: 0.3617 - accuracy: 0.8422 - val_loss: 0.5400 - val_accuracy: 0.7688\n",
      "Epoch 87/100\n",
      "100/100 [==============================] - 12s 123ms/step - loss: 0.3650 - accuracy: 0.8369 - val_loss: 0.5279 - val_accuracy: 0.7638\n",
      "Epoch 88/100\n",
      "100/100 [==============================] - 12s 124ms/step - loss: 0.3854 - accuracy: 0.8303 - val_loss: 0.5163 - val_accuracy: 0.7837\n",
      "Epoch 89/100\n",
      "100/100 [==============================] - 12s 122ms/step - loss: 0.3656 - accuracy: 0.8388 - val_loss: 0.5688 - val_accuracy: 0.7663\n",
      "Epoch 90/100\n",
      "100/100 [==============================] - 12s 124ms/step - loss: 0.3647 - accuracy: 0.8363 - val_loss: 0.6063 - val_accuracy: 0.7487\n",
      "Epoch 91/100\n",
      "100/100 [==============================] - 12s 123ms/step - loss: 0.3695 - accuracy: 0.8325 - val_loss: 0.5399 - val_accuracy: 0.7538\n",
      "Epoch 92/100\n",
      "100/100 [==============================] - 12s 123ms/step - loss: 0.3569 - accuracy: 0.8453 - val_loss: 0.5889 - val_accuracy: 0.7563\n",
      "Epoch 93/100\n",
      "100/100 [==============================] - 12s 123ms/step - loss: 0.3434 - accuracy: 0.8581 - val_loss: 0.5293 - val_accuracy: 0.7700\n",
      "Epoch 94/100\n",
      "100/100 [==============================] - 12s 122ms/step - loss: 0.3354 - accuracy: 0.8556 - val_loss: 0.6037 - val_accuracy: 0.7713\n",
      "Epoch 95/100\n",
      "100/100 [==============================] - 12s 123ms/step - loss: 0.3616 - accuracy: 0.8391 - val_loss: 0.5350 - val_accuracy: 0.7613\n",
      "Epoch 96/100\n",
      "100/100 [==============================] - 12s 122ms/step - loss: 0.3804 - accuracy: 0.8269 - val_loss: 0.5507 - val_accuracy: 0.7312\n",
      "Epoch 97/100\n",
      "100/100 [==============================] - 12s 123ms/step - loss: 0.3343 - accuracy: 0.8553 - val_loss: 0.5030 - val_accuracy: 0.7850\n",
      "Epoch 98/100\n",
      "100/100 [==============================] - 12s 125ms/step - loss: 0.3618 - accuracy: 0.8347 - val_loss: 0.5002 - val_accuracy: 0.7688\n",
      "Epoch 99/100\n",
      "100/100 [==============================] - 12s 124ms/step - loss: 0.3438 - accuracy: 0.8450 - val_loss: 0.5352 - val_accuracy: 0.7725\n",
      "Epoch 100/100\n",
      "100/100 [==============================] - 13s 125ms/step - loss: 0.3438 - accuracy: 0.8475 - val_loss: 0.5814 - val_accuracy: 0.7400\n"
     ]
    },
    {
     "data": {
      "text/plain": [
       "<tensorflow.python.keras.callbacks.History at 0x179000246a0>"
      ]
     },
     "execution_count": 25,
     "metadata": {},
     "output_type": "execute_result"
    }
   ],
   "source": [
    "trainSet = train_gen.flow_from_directory('Applied-Deep-Learning-with-Keras/Lesson07/Datasets/dataset/training_set',target_size = (64, 64),batch_size = 32,class_mode = 'binary')\n",
    "testSet = test_gen.flow_from_directory('Applied-Deep-Learning-with-Keras/Lesson07/Datasets/dataset/test_set',target_size = (64, 64),batch_size = 32,class_mode = 'binary')\n",
    "batch_size = 100\n",
    "classifier.fit_generator(trainSet,steps_per_epoch = int(10000/batch_size),epochs = 100,validation_data = testSet,validation_steps = int(2500/batch_size))"
   ]
  },
  {
   "cell_type": "code",
   "execution_count": 26,
   "metadata": {},
   "outputs": [
    {
     "name": "stdout",
     "output_type": "stream",
     "text": [
      "Cat\n"
     ]
    }
   ],
   "source": [
    "from tensorflow.keras.preprocessing import image\n",
    "new_image = image.load_img('test_image_2.jpg',target_size = (64, 64))\n",
    "new_image = image.img_to_array(new_image)\n",
    "new_image = np.expand_dims(new_image, axis = 0)\n",
    "result = classifier.predict(new_image)\n",
    "if result[0][0] == 1:\n",
    "    prediction = 'Dog'\n",
    "else:\n",
    "    prediction = 'Cat' \n",
    "print(prediction)"
   ]
  },
  {
   "cell_type": "code",
   "execution_count": null,
   "metadata": {},
   "outputs": [],
   "source": []
  }
 ],
 "metadata": {
  "kernelspec": {
   "display_name": "Python 3",
   "language": "python",
   "name": "python3"
  },
  "language_info": {
   "codemirror_mode": {
    "name": "ipython",
    "version": 3
   },
   "file_extension": ".py",
   "mimetype": "text/x-python",
   "name": "python",
   "nbconvert_exporter": "python",
   "pygments_lexer": "ipython3",
   "version": "3.8.3"
  }
 },
 "nbformat": 4,
 "nbformat_minor": 4
}
