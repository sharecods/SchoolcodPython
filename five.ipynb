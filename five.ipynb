{
 "cells": [
  {
   "cell_type": "code",
   "execution_count": 1,
   "metadata": {},
   "outputs": [
    {
     "name": "stdout",
     "output_type": "stream",
     "text": [
      "True\n",
      "False\n",
      "True\n",
      "True\n",
      "False\n"
     ]
    }
   ],
   "source": [
    "class a:\n",
    "    pass\n",
    "class b:\n",
    "    pass\n",
    "class c(a):\n",
    "    pass\n",
    "d, e = a(), b()\n",
    "print(isinstance(d, a))\n",
    "print(isinstance(e, a))\n",
    "print(isinstance(d, object))\n",
    "print(isinstance(int, object))\n",
    "print(isinstance(d, b))"
   ]
  },
  {
   "cell_type": "code",
   "execution_count": 3,
   "metadata": {},
   "outputs": [
    {
     "name": "stdout",
     "output_type": "stream",
     "text": [
      "70\n"
     ]
    }
   ],
   "source": [
    "class d:\n",
    "    def __init__(self, a):\n",
    "        self.d = a\n",
    "        print(a)\n",
    "    def __del__(self):\n",
    "        print(\"b!\")\n",
    "e = d(70)"
   ]
  },
  {
   "cell_type": "code",
   "execution_count": 4,
   "metadata": {},
   "outputs": [
    {
     "name": "stdout",
     "output_type": "stream",
     "text": [
      "70\n",
      "b!\n"
     ]
    }
   ],
   "source": [
    "def f():\n",
    "    a = d(70)\n",
    "f()"
   ]
  },
  {
   "cell_type": "code",
   "execution_count": 5,
   "metadata": {},
   "outputs": [
    {
     "name": "stdout",
     "output_type": "stream",
     "text": [
      "9.42477796076938\n",
      "18.84955592153876\n"
     ]
    }
   ],
   "source": [
    "from math import pi\n",
    "\n",
    "class g(object):\n",
    "    def __init__(self, h):\n",
    "        self.h = h\n",
    "        \n",
    "    def setter(self, h):\n",
    "        self.h = h\n",
    "    @property\n",
    "    def i(self):\n",
    "        return pi * self.h\n",
    "    \n",
    "    @property\n",
    "    def a(self):\n",
    "        return 2 * pi * self.h\n",
    "    \n",
    "c = g(3.0)\n",
    "\n",
    "print(c.i)\n",
    "print(c.a)"
   ]
  },
  {
   "cell_type": "code",
   "execution_count": 6,
   "metadata": {},
   "outputs": [
    {
     "name": "stdout",
     "output_type": "stream",
     "text": [
      "a\n",
      "b\n"
     ]
    },
    {
     "ename": "AttributeError",
     "evalue": "'h' object has no attribute '__c'",
     "output_type": "error",
     "traceback": [
      "\u001b[1;31m---------------------------------------------------------------------------\u001b[0m",
      "\u001b[1;31mAttributeError\u001b[0m                            Traceback (most recent call last)",
      "\u001b[1;32m<ipython-input-6-cf8f2662cf5e>\u001b[0m in \u001b[0;36m<module>\u001b[1;34m\u001b[0m\n\u001b[0;32m      8\u001b[0m \u001b[0mprint\u001b[0m\u001b[1;33m(\u001b[0m\u001b[0mg\u001b[0m\u001b[1;33m.\u001b[0m\u001b[0ma\u001b[0m\u001b[1;33m)\u001b[0m\u001b[1;33m\u001b[0m\u001b[1;33m\u001b[0m\u001b[0m\n\u001b[0;32m      9\u001b[0m \u001b[0mprint\u001b[0m\u001b[1;33m(\u001b[0m\u001b[0mg\u001b[0m\u001b[1;33m.\u001b[0m\u001b[0m_b\u001b[0m\u001b[1;33m)\u001b[0m\u001b[1;33m\u001b[0m\u001b[1;33m\u001b[0m\u001b[0m\n\u001b[1;32m---> 10\u001b[1;33m \u001b[0mprint\u001b[0m\u001b[1;33m(\u001b[0m\u001b[0mg\u001b[0m\u001b[1;33m.\u001b[0m\u001b[0m__c\u001b[0m\u001b[1;33m)\u001b[0m\u001b[1;33m\u001b[0m\u001b[1;33m\u001b[0m\u001b[0m\n\u001b[0m",
      "\u001b[1;31mAttributeError\u001b[0m: 'h' object has no attribute '__c'"
     ]
    }
   ],
   "source": [
    "class h:\n",
    "    def __init__(self):\n",
    "        self.a = 'a'\n",
    "        self._b = 'b'\n",
    "        self.__c = 'c'\n",
    "        \n",
    "g = h()\n",
    "print(g.a)\n",
    "print(g._b)\n",
    "print(g.__c)"
   ]
  },
  {
   "cell_type": "code",
   "execution_count": 11,
   "metadata": {},
   "outputs": [
    {
     "name": "stdout",
     "output_type": "stream",
     "text": [
      "c\n"
     ]
    }
   ],
   "source": [
    "print(g._h__c)"
   ]
  },
  {
   "cell_type": "code",
   "execution_count": 11,
   "metadata": {},
   "outputs": [
    {
     "name": "stdout",
     "output_type": "stream",
     "text": [
      "(5+6j)\n"
     ]
    }
   ],
   "source": [
    "z1 = 3 + 4j\n",
    "z2 = 2 + 2j\n",
    "\n",
    "z3 = z1 + z2\n",
    "print(z3)"
   ]
  },
  {
   "cell_type": "code",
   "execution_count": 14,
   "metadata": {},
   "outputs": [
    {
     "name": "stdout",
     "output_type": "stream",
     "text": [
      "b\n",
      "a\n",
      "27\n",
      "c\n",
      "a\n",
      "-7\n"
     ]
    }
   ],
   "source": [
    "class t(object):\n",
    "    def __init__(self, n):\n",
    "        self.q = n\n",
    "    def __repr__(self):\n",
    "        print(\"a\")\n",
    "        return str(self.q)\n",
    "    def __add__(self, other):\n",
    "        print(\"b\")\n",
    "        return t(self.q + other.w())\n",
    "    def __sub__(self, other):\n",
    "        print(\"c\")\n",
    "        return t(self.q - other.w())\n",
    "    def w(self):\n",
    "        return self.q\n",
    "y = t(10)\n",
    "u = t(17)\n",
    "print(y + u)\n",
    "print(y - u)"
   ]
  },
  {
   "cell_type": "code",
   "execution_count": null,
   "metadata": {},
   "outputs": [],
   "source": []
  }
 ],
 "metadata": {
  "kernelspec": {
   "display_name": "Python 3",
   "language": "python",
   "name": "python3"
  },
  "language_info": {
   "codemirror_mode": {
    "name": "ipython",
    "version": 3
   },
   "file_extension": ".py",
   "mimetype": "text/x-python",
   "name": "python",
   "nbconvert_exporter": "python",
   "pygments_lexer": "ipython3",
   "version": "3.8.3"
  }
 },
 "nbformat": 4,
 "nbformat_minor": 4
}
