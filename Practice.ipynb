{
 "cells": [
  {
   "cell_type": "code",
   "execution_count": 1,
   "metadata": {
    "scrolled": true
   },
   "outputs": [],
   "source": [
    "import random"
   ]
  },
  {
   "cell_type": "code",
   "execution_count": 2,
   "metadata": {},
   "outputs": [
    {
     "name": "stdout",
     "output_type": "stream",
     "text": [
      "래벨을 설정해 주세요(1~9) : \n",
      "3\n"
     ]
    }
   ],
   "source": [
    "while (1):\n",
    "    print(\"래벨을 설정해 주세요(1~9) : \");\n",
    "    level = int(input())\n",
    "    if(level < 10):\n",
    "        break;"
   ]
  },
  {
   "cell_type": "code",
   "execution_count": 3,
   "metadata": {},
   "outputs": [],
   "source": [
    "number = [0 for inum in range(level)]\n",
    "for inum in range(level):\n",
    "    number[inum] = random.randrange(1,9)\n",
    "    for jnum in range(inum):\n",
    "        if(int(number[inum]) == int(number[jnum])):\n",
    "            inum = inum - 1"
   ]
  },
  {
   "cell_type": "code",
   "execution_count": 4,
   "metadata": {},
   "outputs": [
    {
     "name": "stdout",
     "output_type": "stream",
     "text": [
      "3\n",
      "6\n",
      "2\n"
     ]
    }
   ],
   "source": [
    "for inum in range(level):\n",
    "    print(number[inum])"
   ]
  },
  {
   "cell_type": "code",
   "execution_count": 9,
   "metadata": {},
   "outputs": [
    {
     "name": "stdout",
     "output_type": "stream",
     "text": [
      "숫자를 입력해 주세요 : \n",
      "123\n",
      "num[inum] : 1\n",
      "number[inum] : 3\n",
      "num[inum] : 2\n",
      "number[inum] : 6\n",
      "num[inum] : 3\n",
      "number[inum] : 2\n",
      "스트라이크 : 0\n",
      "볼 : 2\n",
      "숫자를 입력해 주세요 : \n",
      "325\n",
      "num[inum] : 3\n",
      "number[inum] : 3\n",
      "num[inum] : 2\n",
      "number[inum] : 6\n",
      "num[inum] : 5\n",
      "number[inum] : 2\n",
      "스트라이크 : 1\n",
      "볼 : 1\n",
      "숫자를 입력해 주세요 : \n",
      "362\n",
      "num[inum] : 3\n",
      "number[inum] : 3\n",
      "num[inum] : 6\n",
      "number[inum] : 6\n",
      "num[inum] : 2\n",
      "number[inum] : 2\n",
      "스트라이크 : 3\n",
      "볼 : 0\n",
      "축하합니다.\n"
     ]
    }
   ],
   "source": [
    "TF = 1\n",
    "strike = 0\n",
    "boll = 0\n",
    "while (TF):\n",
    "    print(\"숫자를 입력해 주세요 : \")\n",
    "    num = input()\n",
    "    \n",
    "    if(len(num) != level):\n",
    "        continue\n",
    "        \n",
    "    for inum in range(level):\n",
    "        if (int(num[inum]) == int(number[inum])):\n",
    "            strike = strike + 1\n",
    "            if strike == level:\n",
    "                TF  = 0\n",
    "        else:\n",
    "            for jnum in range(level):\n",
    "                if int(num[inum]) == int(number[jnum]):\n",
    "                    boll = boll + 1\n",
    "\n",
    "    print(\"스트라이크 : \" + str(strike) + \"\\n볼 : \" + str(boll))\n",
    "    strike = boll = 0\n",
    "    \n",
    "print(\"축하합니다.\")"
   ]
  },
  {
   "cell_type": "code",
   "execution_count": null,
   "metadata": {},
   "outputs": [],
   "source": []
  },
  {
   "cell_type": "code",
   "execution_count": 25,
   "metadata": {},
   "outputs": [
    {
     "name": "stdout",
     "output_type": "stream",
     "text": [
      "a점을 입력 하세요\n",
      "x : 5\n",
      "y : 8\n"
     ]
    }
   ],
   "source": [
    "print(\"a점을 입력 하세요\")\n",
    "\n",
    "x1 = int(input(\"x : \"))\n",
    "y1 = int(input(\"y : \"))"
   ]
  },
  {
   "cell_type": "code",
   "execution_count": 26,
   "metadata": {},
   "outputs": [
    {
     "name": "stdout",
     "output_type": "stream",
     "text": [
      "b점을 입력 하세요\n",
      "x : 7\n",
      "y : 6\n"
     ]
    }
   ],
   "source": [
    "print(\"b점을 입력 하세요\")\n",
    "\n",
    "x2 = int(input(\"x : \"))\n",
    "y2 = int(input(\"y : \"))"
   ]
  },
  {
   "cell_type": "code",
   "execution_count": 27,
   "metadata": {},
   "outputs": [
    {
     "name": "stdout",
     "output_type": "stream",
     "text": [
      "f(x) = -1.0x + 13.0\n"
     ]
    }
   ],
   "source": [
    "x3 = x1 - x2\n",
    "y3 = y1 - y2\n",
    "x = y3/x3\n",
    "b = y1 - x*x1\n",
    "print(\"f(x) = \" + str(x) + \"x\" + \" + \" + str(b))"
   ]
  },
  {
   "cell_type": "code",
   "execution_count": null,
   "metadata": {},
   "outputs": [],
   "source": []
  }
 ],
 "metadata": {
  "kernelspec": {
   "display_name": "Python 3",
   "language": "python",
   "name": "python3"
  },
  "language_info": {
   "codemirror_mode": {
    "name": "ipython",
    "version": 3
   },
   "file_extension": ".py",
   "mimetype": "text/x-python",
   "name": "python",
   "nbconvert_exporter": "python",
   "pygments_lexer": "ipython3",
   "version": "3.8.3"
  }
 },
 "nbformat": 4,
 "nbformat_minor": 4
}
